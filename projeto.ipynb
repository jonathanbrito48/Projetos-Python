{
 "cells": [
  {
   "cell_type": "code",
   "execution_count": 1,
   "metadata": {},
   "outputs": [],
   "source": [
    "from sqlalchemy import create_engine\n",
    "import pandas as pd\n",
    "import ftplib\n",
    "import io\n"
   ]
  },
  {
   "cell_type": "code",
   "execution_count": 2,
   "metadata": {},
   "outputs": [
    {
     "data": {
      "text/plain": [
       "'250 CWD command successful'"
      ]
     },
     "execution_count": 2,
     "metadata": {},
     "output_type": "execute_result"
    }
   ],
   "source": [
    "ftp = ftplib.FTP(servidor_ftp)\n",
    "ftp.login(login , senha)\n",
    "ftp.cwd(caminho)"
   ]
  },
  {
   "cell_type": "code",
   "execution_count": 3,
   "metadata": {},
   "outputs": [],
   "source": [
    "def mysql_connection(host, user, passwd, database=None):\n",
    "    engine = create_engine(f'mysql+pymysql://{user}:{passwd}@{host}/{database}')\n",
    "    return engine.connect()\n",
    "connection = mysql_connection(local, user, senha, banco)"
   ]
  },
  {
   "cell_type": "code",
   "execution_count": 17,
   "metadata": {},
   "source": [
   "outputs": [],
    "for file in ftp.nlst():\n",
    "     \n",
    "    print(\"Preparando arquivo {} para o Banco de Dados...\".format(file))\n",
    "    r = io.BytesIO()\n",
    "    ftp.retrbinary('RETR ' + file , r.write)\n",
    "    info = r.getvalue().decode()\n",
    "    listas = pd.DataFrame(info.split('\\r\\n'))\n",
    "    cabecalho = pd.DataFrame(listas)[0][0].split(';')\n",
    "    cabecalho = list(cabecalho)\n",
    "    dados = []\n",
    "    for i in info.split('\\r\\n')[1:]:\n",
    "        dados.append(i.split(';'))\n",
    "    vendas = []\n",
    "    for i in dados:\n",
    "        vendas.append(dict(zip(cabecalho, i)))\n",
    "    vendas = pd.DataFrame(vendas)\n",
    "    vendas.data = pd.to_datetime(vendas.data, format='%d/%m/%Y')\n",
    "    vendas.rename(columns={'cdg_filial':'cod_loja',\n",
    "                       'eanvenda':'cod_produto',\n",
    "                       'qtde_venda_bruta':'qtd_vendida',\n",
    "                       'vlr_venda_bruta':'venda_bruta',\n",
    "                       'vlr_venda_liquida':'venda_liquida',\n",
    "                       'vlr_lucro':'lucro',\n",
    "                       'qtde_cupons':'qtd_cupons'}, inplace= True)\n",
    "    vendas = vendas[['data',\n",
    "                    'cod_loja',\n",
    "                    'cod_produto',\n",
    "                    'qtd_vendida',\n",
    "                    'venda_bruta',\n",
    "                    'venda_liquida',\n",
    "                    'lucro',\n",
    "                    'margem_realizada',\n",
    "                    'qtd_cupons',\n",
    "                    'promocao',\n",
    "                    'canal_vendas']]\n",
    "    print(\"Carregando arquivo {} no Banco de dados...\".format(file))\n",
    "    vendas.to_sql(tabela_banco, connection, if_exists='append', index=False)\n",
    "    print('OK!')\n",
    "print(\"Finalizado!\")\n",
    "ftp.close()\n",
    "connection.close()"
   ]
  }
 ],
 "metadata": {
  "kernelspec": {
   "display_name": "Python 3",
   "language": "python",
   "name": "python3"
  },
  "language_info": {
   "codemirror_mode": {
    "name": "ipython",
    "version": 3
   },
   "file_extension": ".py",
   "mimetype": "text/x-python",
   "name": "python",
   "nbconvert_exporter": "python",
   "pygments_lexer": "ipython3",
   "version": "3.11.4"
  },
  "orig_nbformat": 4
 },
 "nbformat": 4,
 "nbformat_minor": 2
}
