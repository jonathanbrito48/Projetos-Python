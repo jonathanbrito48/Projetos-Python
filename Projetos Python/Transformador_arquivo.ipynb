{
 "cells": [
  {
   "cell_type": "code",
   "execution_count": 1,
   "id": "4fd85e16",
   "metadata": {},
   "outputs": [],
   "source": [
    "import pandas as pd"
   ]
  },
  {
   "cell_type": "code",
   "execution_count": 2,
   "id": "8f61b864",
   "metadata": {},
   "outputs": [],
   "source": [
    "def transformador_arquivo(arquivo_path, novo_arquivo_path):\n",
    "    with open(arquivo_path,'r', encoding = 'UTF-8') as txt:\n",
    "        dados = txt.read()\n",
    "    json = pd.read_json(dados)\n",
    "    dataframe = []\n",
    "    dataframe.append(json.values)\n",
    "    lista = []\n",
    "    while len(lista) <= (len(dataframe[0])-1):\n",
    "        for produto in dataframe:\n",
    "            lista.append(dataframe[0][((len(dataframe[0])-1)-len(lista))][0])\n",
    "    print(len(lista), 'itens adicionados')\n",
    "    print('Transformando os dados...')\n",
    "    arquivo_final = pd.DataFrame(lista)\n",
    "    arquivo_final.to_excel(novo_arquivo_path, index = False)\n",
    "    print('Finalizado!')"
   ]
  },
  {
   "cell_type": "code",
   "execution_count": 3,
   "id": "0bc147c1",
   "metadata": {},
   "outputs": [
    {
     "name": "stdout",
     "output_type": "stream",
     "text": [
      "32699 itens adicionados\n",
      "Transformando os dados...\n",
      "Finalizado!\n"
     ]
    }
   ],
   "source": [
    "transformador_arquivo('Princesa/PreciMet_Estoque_2023_05_26.txt','Princesa/PreciMet_Estoque_2023_05_26.xlsx' )"
   ]
  },
  {
   "cell_type": "code",
   "execution_count": 8,
   "id": "77145763",
   "metadata": {},
   "outputs": [
    {
     "ename": "NameError",
     "evalue": "name 'arquivo_final' is not defined",
     "output_type": "error",
     "traceback": [
      "\u001b[1;31m---------------------------------------------------------------------------\u001b[0m",
      "\u001b[1;31mNameError\u001b[0m                                 Traceback (most recent call last)",
      "\u001b[1;32m~\\AppData\\Local\\Temp\\ipykernel_9824\\982518905.py\u001b[0m in \u001b[0;36m<module>\u001b[1;34m\u001b[0m\n\u001b[1;32m----> 1\u001b[1;33m \u001b[0marquivo_final\u001b[0m\u001b[1;33m\u001b[0m\u001b[1;33m\u001b[0m\u001b[0m\n\u001b[0m",
      "\u001b[1;31mNameError\u001b[0m: name 'arquivo_final' is not defined"
     ]
    }
   ],
   "source": [
    "arquivo_final"
   ]
  },
  {
   "cell_type": "code",
   "execution_count": 602,
   "id": "4ea45a4c",
   "metadata": {
    "scrolled": true
   },
   "outputs": [
    {
     "name": "stdout",
     "output_type": "stream",
     "text": [
      "150000 itens adicionados\n"
     ]
    }
   ],
   "source": [
    "transformador_arquivo('Princesa/EXPORTACAO/PreciMet_Estoque_2023_01_10__5.txt', 'Princesa/EXPORTACAO/PreciMet_Estoque_2023_01_10__5.xlsx')"
   ]
  },
  {
   "cell_type": "code",
   "execution_count": 601,
   "id": "f74d1fd2",
   "metadata": {},
   "outputs": [
    {
     "name": "stdout",
     "output_type": "stream",
     "text": [
      "150000 itens adicionados\n"
     ]
    }
   ],
   "source": [
    "transformador_arquivo('Princesa/EXPORTACAO/PreciMet_Estoque_2023_01_10__4.txt', 'Princesa/EXPORTACAO/PreciMet_Estoque_2023_01_10__4.xlsx')"
   ]
  },
  {
   "cell_type": "code",
   "execution_count": 600,
   "id": "fbc0cce9",
   "metadata": {},
   "outputs": [
    {
     "name": "stdout",
     "output_type": "stream",
     "text": [
      "150000 itens adicionados\n"
     ]
    }
   ],
   "source": [
    "transformador_arquivo('Princesa/EXPORTACAO/PreciMet_Estoque_2023_01_10__3.txt', 'Princesa/EXPORTACAO/PreciMet_Estoque_2023_01_10__3.xlsx')"
   ]
  },
  {
   "cell_type": "code",
   "execution_count": 26,
   "id": "dba6f0f8",
   "metadata": {},
   "outputs": [
    {
     "name": "stdout",
     "output_type": "stream",
     "text": [
      "150000 itens adicionados\n",
      "Transformando os dados...\n",
      "Finalizado!\n"
     ]
    }
   ],
   "source": [
    "transformador_arquivo('Princesa/EXPORTACAO/PreciMet_Estoque_2023_01_10__2.txt', 'Princesa/EXPORTACAO/PreciMet_Estoque_2023_01_10__2.xlsx')"
   ]
  },
  {
   "cell_type": "code",
   "execution_count": 598,
   "id": "fb92db61",
   "metadata": {},
   "outputs": [
    {
     "name": "stdout",
     "output_type": "stream",
     "text": [
      "150000 itens adicionados\n"
     ]
    }
   ],
   "source": [
    "transformador_arquivo('Princesa/EXPORTACAO/PreciMet_Estoque_2023_01_10__1.txt', 'Princesa/EXPORTACAO/PreciMet_Estoque_2023_01_10__1.xlsx')"
   ]
  },
  {
   "cell_type": "code",
   "execution_count": 617,
   "id": "152e1967",
   "metadata": {
    "scrolled": true
   },
   "outputs": [
    {
     "name": "stdout",
     "output_type": "stream",
     "text": [
      "65874 itens adicionados\n",
      "Transformando os dados...\n",
      "Finalizado!\n"
     ]
    }
   ],
   "source": [
    "transformador_arquivo('Princesa/EXPORTACAO/PreciMet_Produto_2023_01_10.txt', 'Princesa/EXPORTACAO/PreciMet_Produto_2023_01_10.xlsx')"
   ]
  },
  {
   "cell_type": "code",
   "execution_count": 12,
   "id": "b7532fda",
   "metadata": {
    "scrolled": true
   },
   "outputs": [
    {
     "name": "stdout",
     "output_type": "stream",
     "text": [
      "33 itens adicionados\n",
      "Transformando os dados...\n",
      "Finalizado!\n"
     ]
    }
   ],
   "source": [
    "transformador_arquivo('Princesa/EXPORTACAO/PreciMet_Lojas_2023_01_10.txt', 'Princesa/EXPORTACAO/PreciMet_Lojas_2023_01_10.xlsx')"
   ]
  },
  {
   "cell_type": "code",
   "execution_count": 17,
   "id": "7cf48f61",
   "metadata": {},
   "outputs": [],
   "source": [
    "with open('Princesa/EXPORTACAO/PreciMet_Lojas_2023_01_10.txt','r', encoding = 'UTF-8') as txt:\n",
    "    dados = txt.read()\n",
    "json = pd.read_json(dados)\n",
    "dataframe = []\n",
    "dataframe.append(json.values)"
   ]
  },
  {
   "cell_type": "code",
   "execution_count": 25,
   "id": "61156953",
   "metadata": {},
   "outputs": [
    {
     "data": {
      "text/plain": [
       "array([[{'codigo_loja': 13, 'nome_loja': 'Matriz', 'endereco_loja': 'Rua do Milho, 17  - Penha Circular', 'uf': 'RJ', 'cidade': 'Rio de Janeiro'}],\n",
       "       [{'codigo_loja': 246, 'nome_loja': 'Laranjeiras', 'endereco_loja': 'Rua das Laranjeiras, 218 A - Laranjeiras', 'uf': 'RJ', 'cidade': 'Rio de Janeiro'}],\n",
       "       [{'codigo_loja': 247, 'nome_loja': 'Bolivar', 'endereco_loja': 'Rua Bolivar, 34 38 - Loja A - Copacabana', 'uf': 'RJ', 'cidade': 'Rio de Janeiro'}],\n",
       "       [{'codigo_loja': 248, 'nome_loja': 'Catete', 'endereco_loja': 'Rua do Catete, 120  - Catete', 'uf': 'RJ', 'cidade': 'Rio de Janeiro'}],\n",
       "       [{'codigo_loja': 249, 'nome_loja': 'Flamengo', 'endereco_loja': 'Rua Senador Vergueiro, 165 A - Flamengo', 'uf': 'RJ', 'cidade': 'Rio de Janeiro'}],\n",
       "       [{'codigo_loja': 250, 'nome_loja': 'Leme', 'endereco_loja': 'Av.Princesa Isabel, 134 A - Copacabana', 'uf': 'RJ', 'cidade': 'Rio de Janeiro'}],\n",
       "       [{'codigo_loja': 737, 'nome_loja': 'Cosme Velho', 'endereco_loja': 'Rua das Laranjeiras, 519 A - Cosme Velho', 'uf': 'RJ', 'cidade': 'Rio de Janeiro'}],\n",
       "       [{'codigo_loja': 1243, 'nome_loja': 'Pechincha', 'endereco_loja': 'Estrada do Pau Ferro, 31 B - Jacarepagua', 'uf': 'RJ', 'cidade': 'Rio de Janeiro'}],\n",
       "       [{'codigo_loja': 1672, 'nome_loja': 'Maricá 1', 'endereco_loja': 'Rua Abreu Sodré, S/Nº  - Centro', 'uf': 'RJ', 'cidade': 'Maricá'}],\n",
       "       [{'codigo_loja': 1673, 'nome_loja': 'Búzios 1', 'endereco_loja': 'Av.José Bento Ribeiro Dantas, S/Nº  - Manguinhos', 'uf': 'RJ', 'cidade': 'Armação dos Búzios'}],\n",
       "       [{'codigo_loja': 1745, 'nome_loja': 'Princesa do Mar-Alho', 'endereco_loja': 'Rua do Alho, 481 - Parte  - Penha Circular', 'uf': 'RJ', 'cidade': 'Rio deJaneiro'}],\n",
       "       [{'codigo_loja': 1792, 'nome_loja': 'Depósito - Arraial', 'endereco_loja': 'Av.Getulio Vargas, 7  - Centro', 'uf': 'RJ', 'cidade': 'Arraial do Cabo'}],\n",
       "       [{'codigo_loja': 1793, 'nome_loja': 'Arraial 1', 'endereco_loja': 'Av.Getulio Vargas, 6  - Centro', 'uf': 'RJ', 'cidade': 'Arraial do Cabo'}],\n",
       "       [{'codigo_loja': 1812, 'nome_loja': 'Maricá 2', 'endereco_loja': 'Pça. Conselheiro Macedo Soares, 102  - Centro', 'uf': 'RJ', 'cidade': 'Maricá'}],\n",
       "       [{'codigo_loja': 1813, 'nome_loja': 'Rio das Ostras', 'endereco_loja': 'Al. Casimiro de Abreu, 120  - Centro', 'uf': 'RJ', 'cidade': 'Rio das Ostras'}],\n",
       "       [{'codigo_loja': 18, 'nome_loja': 'Cabo Frio 1', 'endereco_loja': 'Av.Teixeira e Souza, 1025  - Centro', 'uf': 'RJ', 'cidade': 'Cabo Frio'}],\n",
       "       [{'codigo_loja': 19, 'nome_loja': 'Búzios 2', 'endereco_loja': 'Estr.José Bento Ribeiro Dantas, 3125  - Manguinhos', 'uf': 'RJ', 'cidade': 'Armação dos Búzios'}],\n",
       "       [{'codigo_loja': 20, 'nome_loja': 'Barra São João', 'endereco_loja': 'Rodovia Amaral Peixoto, 903 E 911 Lojas - Barra de São João', 'uf': 'RJ', 'cidade': 'Casimiro de Abreu'}],\n",
       "       [{'codigo_loja': 3514, 'nome_loja': 'Arraial 2', 'endereco_loja': 'Av.Getúlio Vargas, 101 Praia Grande - Centro', 'uf': 'RJ', 'cidade': 'Arraial do Cabo'}],\n",
       "       [{'codigo_loja': 3515, 'nome_loja': 'Fonseca', 'endereco_loja': 'Alameda São Boaventura, 555 A - Fonseca', 'uf': 'RJ', 'cidade': 'Niterói'}],\n",
       "       [{'codigo_loja': 5107, 'nome_loja': 'Icaraí', 'endereco_loja': 'Rua Coronel Moreira Cesar, 323  - Icaraí', 'uf': 'RJ', 'cidade': 'Niterói'}],\n",
       "       [{'codigo_loja': 4520, 'nome_loja': 'Depósito Batata', 'endereco_loja': 'Rua da Batata, 75  - Penha Circular', 'uf': 'RJ', 'cidade': 'Rio de Janeiro'}],\n",
       "       [{'codigo_loja': 6436, 'nome_loja': 'Empório Santa Rosa', 'endereco_loja': 'Rua Doutor Paulo Cesar, 329  - Santa Rosa', 'uf': 'RJ', 'cidade': 'Niterói'}],\n",
       "       [{'codigo_loja': 5984, 'nome_loja': 'Cabo Frio 2', 'endereco_loja': 'Rua Irmã Josefina Veiga, S/Nº Quadra J - Lote 6 - Jardim Olinda', 'uf': 'RJ', 'cidade': 'Cabo Frio'}],\n",
       "       [{'codigo_loja': 5985, 'nome_loja': 'Cabo Frio 3', 'endereco_loja': 'Av.Teixeira e Souza, 301  - Centro', 'uf': 'RJ', 'cidade': 'Cabo Frio'}],\n",
       "       [{'codigo_loja': 6458, 'nome_loja': 'Ingá', 'endereco_loja': 'Rua Presidente Pedreira, 189 193 e 195 - Ingá', 'uf': 'RJ', 'cidade': 'Niterói'}],\n",
       "       [{'codigo_loja': 8166, 'nome_loja': 'Araruama', 'endereco_loja': 'Rua Conselheiro Macedo Soares, 93 R.Bern.Vasconcelos - Centro', 'uf': 'RJ', 'cidade': 'Araruama'}],\n",
       "       [{'codigo_loja': 8167, 'nome_loja': 'Bacaxá', 'endereco_loja': 'Rua Professor Francisco Fonseca, 135 Loja 02 - Bacaxá', 'uf': 'RJ', 'cidade': 'Saquarema'}],\n",
       "       [{'codigo_loja': 8535, 'nome_loja': 'Iguaba Grande', 'endereco_loja': 'Rod.Amaral Peixoto, 2289 Km 98 - Centro', 'uf': 'RJ', 'cidade': 'Iguaba Grande'}],\n",
       "       [{'codigo_loja': 8536, 'nome_loja': 'Arraial 3', 'endereco_loja': 'Pça.da Bandeira, S/Nº  - Praia dos Anjos', 'uf': 'RJ', 'cidade': 'Arraial do Cabo'}],\n",
       "       [{'codigo_loja': 8544, 'nome_loja': 'Búzios 3', 'endereco_loja': 'Av.José Bento Ribeiro Dantas, S/Nº Lote 53 B - Manguinhos', 'uf': 'RJ', 'cidade': 'Armação dos Búzios'}],\n",
       "       [{'codigo_loja': 14, 'nome_loja': 'Itaboraí', 'endereco_loja': 'Avenida Vinte e Dois de Maio, 6224 Loja 01 - Nova Cidade', 'uf': 'RJ', 'cidade': 'Itaboraí'}],\n",
       "       [{'codigo_loja': 11602, 'nome_loja': 'Maza Box', 'endereco_loja': 'Avenida Vinte e Dois de Maio, 6224 Loja 01 - Nova Cidade', 'uf': 'RJ', 'cidade': 'Itaboraí'}]],\n",
       "      dtype=object)"
      ]
     },
     "execution_count": 25,
     "metadata": {},
     "output_type": "execute_result"
    }
   ],
   "source": [
    "dataframe[0]"
   ]
  },
  {
   "cell_type": "code",
   "execution_count": null,
   "id": "fe95b829",
   "metadata": {},
   "outputs": [],
   "source": []
  }
 ],
 "metadata": {
  "kernelspec": {
   "display_name": "Python 3 (ipykernel)",
   "language": "python",
   "name": "python3"
  },
  "language_info": {
   "codemirror_mode": {
    "name": "ipython",
    "version": 3
   },
   "file_extension": ".py",
   "mimetype": "text/x-python",
   "name": "python",
   "nbconvert_exporter": "python",
   "pygments_lexer": "ipython3",
   "version": "3.10.9"
  }
 },
 "nbformat": 4,
 "nbformat_minor": 5
}
